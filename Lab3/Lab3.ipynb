{
 "cells": [
  {
   "cell_type": "markdown",
   "metadata": {},
   "source": [
    "# Практика 17.10.23\n",
    "\n",
    "1. Сгенерировать, используя модуль псевдослучайных чисел `random`, или ввести с клавиатуры список целых чисел. Вывести в консоль, затем перевернуть его и снова вывести в консоль.\n",
    "\n",
    "2. Сгенерировать, используя модуль псевдослучайных чисел `random`, или ввести с клавиатуры два списка целых чисел. Вывести их в консоль. Создать новый пустой список. Добавить в него все четные (по индексу) элементы первого списка и все нечетные (по индексу) элементы второго списка. Вывести третий список в консоль.\n",
    "\n",
    "3. Сгенерировать, используя модуль псевдослучайных чисел `random`, или ввести с клавиатуры список произвольных элементов (целые числа, числа с плавающей точкой, строки). Вывести в консоль. Убрать из него все дубликаты через приведение типов. Вывести в консоль.\n",
    "\n",
    "4. Сгенерировать, используя модуль псевдослучайных чисел `random`, или ввести с клавиатуры словарь, где ключом является строка, значением — целое число или число с плавающей точкой. Вывести в консоль. Для всех уникальных значений создать кортеж, где первым элементом будет значение, вторым — список связанных с ним ключей. Собрать эти кортежи в список, вывести его в консоль.\n",
    "\n",
    "5. Сгенерировать, используя модуль псевдослучайных чисел `random`, или ввести с клавиатуры два словаря, где ключом является строка, значением — целое число или число с плавающей точкой. Вывести в консоль. Найти пересечения множеств значений словарей. Создать новый словарь, содержащий только те пары ключ-значение, значения из которых входит в пересечение. Вывести в консоль.\n",
    "\n",
    "[Ссылка на документацию функции `random`](https://docs.python.org/3/library/random.html)\n",
    "\n",
    "[Built-in Types](https://docs.python.org/3/library/stdtypes.html?highlight=tuple#tuple)"
   ]
  },
  {
   "cell_type": "code",
   "execution_count": 3,
   "metadata": {},
   "outputs": [
    {
     "name": "stdout",
     "output_type": "stream",
     "text": [
      "[0, 1, 4, 6, 7, 8, 4, 7]\n",
      "[7, 4, 8, 7, 6, 4, 1, 0]\n"
     ]
    }
   ],
   "source": [
    "#Подъянов Роман Павлович\n",
    "\n",
    "##Задание 1\n",
    "\n",
    "import random\n",
    "\n",
    "def generate_list(k):\n",
    "  return [random.randrange(0, 10) for _ in range(k)]\n",
    "u = generate_list(8)\n",
    "print(u)\n",
    "\n",
    "print(list(reversed(u)))"
   ]
  },
  {
   "cell_type": "code",
   "execution_count": 4,
   "metadata": {},
   "outputs": [
    {
     "name": "stdout",
     "output_type": "stream",
     "text": [
      "[0, 6, 5, 4, 6] [7, 5, 2, 4, 6, 7, 5, 4, 9, 8]\n"
     ]
    }
   ],
   "source": [
    "## Задание 2\n",
    "\n",
    "u = generate_list(5)\n",
    "y = generate_list(10)\n",
    "t = []\n",
    "print(u, y)\n",
    "\n",
    "for i in range(1, len(y), 2):\n",
    "  t.append(y[i])\n",
    "for i in range(2, len(u), 2):\n",
    "  t.append(u[i])"
   ]
  },
  {
   "cell_type": "code",
   "execution_count": 5,
   "metadata": {},
   "outputs": [
    {
     "name": "stdout",
     "output_type": "stream",
     "text": [
      "['10', '11', '12', '12', '23', '13']\n",
      "['12', '11', '23', '10', '13']\n"
     ]
    }
   ],
   "source": [
    "## Задание 3\n",
    "\n",
    "from random import randint\n",
    "\n",
    "my_list = [input() for i in range(randint(4, 6))]\n",
    "print(my_list)\n",
    "\n",
    "result = list(set(my_list))\n",
    "print(result)"
   ]
  },
  {
   "cell_type": "code",
   "execution_count": 8,
   "metadata": {},
   "outputs": [
    {
     "name": "stdout",
     "output_type": "stream",
     "text": [
      "{1: 'latte', 2: 'latte', 3: 'cappuccino', 4: 'mocha', 5: 'cappuccino'}\n",
      "{'latte': [1, 2], 'cappuccino': [3, 5], 'mocha': [4]}\n"
     ]
    }
   ],
   "source": [
    "## Задание 4\n",
    "\n",
    "f1 = {1: 'latte', 2: 'latte', 3: 'cappuccino', 4: 'mocha', 5: 'cappuccino'}\n",
    "r = dict()\n",
    "print(f1)\n",
    "\n",
    "for key in f:\n",
    "  if f[key] not in r:\n",
    "    r[f[key]] = []\n",
    "  r[f[key]].append(key)\n",
    "print(r)"
   ]
  },
  {
   "cell_type": "code",
   "execution_count": 17,
   "metadata": {},
   "outputs": [
    {
     "name": "stdout",
     "output_type": "stream",
     "text": [
      "f1 {'guftx': -1, 'kfcoi': 0, 'jfdqu': 13, 'zbwaa': -3, 'mthib': -15, 'lxqhy': 0, 'okyon': -10, 'ahqdb': 7, 'cupky': -14, 'njjhy': 14, 'esgqg': -9, 'tzzio': -12, 'rzwpc': 11, 'wgpcl': -5, 'fozfx': -3, 'hixle': 17, 'sawzy': -15, 'esqsl': 20, 'ywvym': -13, 'cjqei': 13, 'cugeh': 6, 'zhdlw': -3, 'ewvfc': 5, 'gzksj': -5, 'sylrp': 13}\n",
      "f2 {'oqlbu': 11, 'jzkzt': -20, 'alvwv': 15, 'bijrw': -18, 'hqdcp': 19, 'ndazm': 15, 'cgalx': 2, 'peusr': 3, 'mmggz': 10, 'hefod': 12, 'clpqy': 20, 'cnzqh': 7, 'ehnqo': 14, 'lzsgx': 2, 'apbwt': 13, 'vahij': -8, 'cnbqi': 16, 'llrhi': 15, 'hkfbw': -20, 'hlrkg': -6, 'dotmc': 6, 'lxfht': -1, 'bvwph': -7, 'faxtz': 0, 'txkwu': 8}\n",
      "[-1, 0, 13, 0, 7, 14, 11, 20, 13, 6, 13]\n",
      "{'guftx': -1, 'kfcoi': 0, 'jfdqu': 13, 'lxqhy': 0, 'ahqdb': 7, 'njjhy': 14, 'rzwpc': 11, 'esqsl': 20, 'cjqei': 13, 'cugeh': 6, 'sylrp': 13, 'oqlbu': 11, 'clpqy': 20, 'cnzqh': 7, 'ehnqo': 14, 'apbwt': 13, 'dotmc': 6, 'lxfht': -1, 'faxtz': 0}\n"
     ]
    }
   ],
   "source": [
    "## Задание 5\n",
    "import string\n",
    "\n",
    "f1 = {}\n",
    "f2 = {}\n",
    "\n",
    "def get_random_string(length):\n",
    "  letters = string.ascii_lowercase\n",
    "  result_str = ''.join(random.choice(letters) for i in range(length))\n",
    "  return result_str\n",
    "\n",
    "for i in range(25):\n",
    "  f1.update({get_random_string(5):random.randint(-20,20)})\n",
    "  f2.update({get_random_string(5):random.randint(-20,20)})\n",
    "print('f1',f1)\n",
    "print('f2',f2)\n",
    "\n",
    "intersection = [value for value in list(f1.values()) if value in list(f2.values())]\n",
    "print(intersection)\n",
    "\n",
    "pairs = {}\n",
    "for key,value in f1.items():\n",
    "  if value in intersection:\n",
    "    pairs.update({key:value})\n",
    "\n",
    "for key,value in f2.items():\n",
    "  if value in intersection:\n",
    "    pairs.update({key:value})\n",
    "\n",
    "print(pairs)\n",
    "\n",
    "\n"
   ]
  }
 ],
 "metadata": {
  "kernelspec": {
   "display_name": "Python 3",
   "language": "python",
   "name": "python3"
  },
  "language_info": {
   "codemirror_mode": {
    "name": "ipython",
    "version": 3
   },
   "file_extension": ".py",
   "mimetype": "text/x-python",
   "name": "python",
   "nbconvert_exporter": "python",
   "pygments_lexer": "ipython3",
   "version": "3.11.7"
  }
 },
 "nbformat": 4,
 "nbformat_minor": 2
}
